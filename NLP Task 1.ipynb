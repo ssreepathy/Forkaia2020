{
 "cells": [
  {
   "cell_type": "code",
   "execution_count": 1,
   "metadata": {},
   "outputs": [],
   "source": [
    "import pandas as pd\n",
    "import numpy as np\n",
    "import os\n",
    "from rake_nltk import Rake\n",
    "from nltk.corpus import stopwords\n",
    "from string import punctuation\n",
    "import nltk\n",
    "import re\n",
    "from nltk.stem.wordnet import WordNetLemmatizer\n",
    "from nltk.stem import SnowballStemmer\n",
    "from nltk.corpus import stopwords\n",
    "import matplotlib.pyplot as plt\n",
    "from scipy import sparse"
   ]
  },
  {
   "cell_type": "markdown",
   "metadata": {},
   "source": [
    "Imported Dataset of Forkaia Talent"
   ]
  },
  {
   "cell_type": "code",
   "execution_count": 2,
   "metadata": {},
   "outputs": [],
   "source": [
    "talent_df = pd.read_csv('talentsnapshot.csv').iloc[:, 0:]"
   ]
  },
  {
   "cell_type": "code",
   "execution_count": 3,
   "metadata": {},
   "outputs": [
    {
     "data": {
      "text/html": [
       "<div>\n",
       "<style scoped>\n",
       "    .dataframe tbody tr th:only-of-type {\n",
       "        vertical-align: middle;\n",
       "    }\n",
       "\n",
       "    .dataframe tbody tr th {\n",
       "        vertical-align: top;\n",
       "    }\n",
       "\n",
       "    .dataframe thead th {\n",
       "        text-align: right;\n",
       "    }\n",
       "</style>\n",
       "<table border=\"1\" class=\"dataframe\">\n",
       "  <thead>\n",
       "    <tr style=\"text-align: right;\">\n",
       "      <th></th>\n",
       "      <th>Submitted On</th>\n",
       "      <th>Education</th>\n",
       "      <th>What are your main talents What skills are you better at than most people that you would define as your competitive advantage</th>\n",
       "      <th>What do you want to work on What do you want to get out of working with Forkaia</th>\n",
       "      <th>Do you like working alone or as part of a team or it doesnt matter</th>\n",
       "      <th>Are you going to be working remotely</th>\n",
       "      <th>When do you want to start</th>\n",
       "      <th>What Forkaia Platforms are you interested in</th>\n",
       "      <th>Pick Your Startups</th>\n",
       "      <th>Pick Your Teams</th>\n",
       "      <th>Please explain how you can add value to any of the Forkaia Platforms Startups or Creative Lab Projects Please be specific for example I can analyze spatial data for RUN IT BACK and determine if there is a relationship between app usage and population density or for the apps that might not have data sets I can set up algorithms and processes to ensure a clean and useful database</th>\n",
       "      <th>What do you consider your biggest achievements in your life up until now Anything of special recognition List any Awards honors or hackathons youve won</th>\n",
       "      <th>What would your ideal or fantasy job be</th>\n",
       "      <th>What should we know about you that we didnt ask you</th>\n",
       "    </tr>\n",
       "  </thead>\n",
       "  <tbody>\n",
       "    <tr>\n",
       "      <th>0</th>\n",
       "      <td>1</td>\n",
       "      <td>Santa Clara University</td>\n",
       "      <td>More than technical skills, I would say am goo...</td>\n",
       "      <td>My prior experience was different from what I ...</td>\n",
       "      <td>Doesn't matter.</td>\n",
       "      <td>If it’s an option, I don't mind working remotely.</td>\n",
       "      <td>NaN</td>\n",
       "      <td>NaN</td>\n",
       "      <td>NaN</td>\n",
       "      <td>NaN</td>\n",
       "      <td>NaN</td>\n",
       "      <td>NaN</td>\n",
       "      <td>NaN</td>\n",
       "      <td>NaN</td>\n",
       "    </tr>\n",
       "    <tr>\n",
       "      <th>1</th>\n",
       "      <td>2</td>\n",
       "      <td>University of California, Riverside</td>\n",
       "      <td>In regards to my talents, I have a strong bac...</td>\n",
       "      <td>I hope to work in the data science field to p...</td>\n",
       "      <td>Working as a team or working by myself are bot...</td>\n",
       "      <td>Commuting to and from work is not an issue sin...</td>\n",
       "      <td>NaN</td>\n",
       "      <td>NaN</td>\n",
       "      <td>NaN</td>\n",
       "      <td>NaN</td>\n",
       "      <td>NaN</td>\n",
       "      <td>NaN</td>\n",
       "      <td>NaN</td>\n",
       "      <td>NaN</td>\n",
       "    </tr>\n",
       "    <tr>\n",
       "      <th>2</th>\n",
       "      <td>3</td>\n",
       "      <td>University of California, Berkeley</td>\n",
       "      <td>I have exceptional time management skills. As ...</td>\n",
       "      <td>Though I am relatively new to programming as I...</td>\n",
       "      <td>Though I believe I am able to handle either, I...</td>\n",
       "      <td>No, I will not be working remotely.</td>\n",
       "      <td>NaN</td>\n",
       "      <td>NaN</td>\n",
       "      <td>NaN</td>\n",
       "      <td>NaN</td>\n",
       "      <td>NaN</td>\n",
       "      <td>NaN</td>\n",
       "      <td>NaN</td>\n",
       "      <td>NaN</td>\n",
       "    </tr>\n",
       "    <tr>\n",
       "      <th>3</th>\n",
       "      <td>4</td>\n",
       "      <td>San Jose State University</td>\n",
       "      <td>I am goo with Back-end development and Machine...</td>\n",
       "      <td>I want to work on any kind of software develop...</td>\n",
       "      <td>Doesn't Matter, but prefer working on team</td>\n",
       "      <td>I am fine with anything</td>\n",
       "      <td>NaN</td>\n",
       "      <td>NaN</td>\n",
       "      <td>NaN</td>\n",
       "      <td>NaN</td>\n",
       "      <td>NaN</td>\n",
       "      <td>NaN</td>\n",
       "      <td>NaN</td>\n",
       "      <td>NaN</td>\n",
       "    </tr>\n",
       "    <tr>\n",
       "      <th>4</th>\n",
       "      <td>5</td>\n",
       "      <td>University of California, San Diego</td>\n",
       "      <td>I'm talented at self-control. I would finish m...</td>\n",
       "      <td>I would like to know more people in the workpl...</td>\n",
       "      <td>I would prefer working individually on a small...</td>\n",
       "      <td>Because I'm still studying in UC San Diego, I ...</td>\n",
       "      <td>NaN</td>\n",
       "      <td>NaN</td>\n",
       "      <td>NaN</td>\n",
       "      <td>NaN</td>\n",
       "      <td>NaN</td>\n",
       "      <td>NaN</td>\n",
       "      <td>NaN</td>\n",
       "      <td>NaN</td>\n",
       "    </tr>\n",
       "  </tbody>\n",
       "</table>\n",
       "</div>"
      ],
      "text/plain": [
       "  Submitted On                            Education  \\\n",
       "0            1               Santa Clara University   \n",
       "1            2  University of California, Riverside   \n",
       "2            3   University of California, Berkeley   \n",
       "3            4            San Jose State University   \n",
       "4            5  University of California, San Diego   \n",
       "\n",
       "  What are your main talents What skills are you better at than most people that you would define as your competitive advantage  \\\n",
       "0  More than technical skills, I would say am goo...                                                                              \n",
       "1   In regards to my talents, I have a strong bac...                                                                              \n",
       "2  I have exceptional time management skills. As ...                                                                              \n",
       "3  I am goo with Back-end development and Machine...                                                                              \n",
       "4  I'm talented at self-control. I would finish m...                                                                              \n",
       "\n",
       "  What do you want to work on What do you want to get out of working with Forkaia  \\\n",
       "0  My prior experience was different from what I ...                                \n",
       "1   I hope to work in the data science field to p...                                \n",
       "2  Though I am relatively new to programming as I...                                \n",
       "3  I want to work on any kind of software develop...                                \n",
       "4  I would like to know more people in the workpl...                                \n",
       "\n",
       "  Do you like working alone or as part of a team or it doesnt matter  \\\n",
       "0                                    Doesn't matter.                   \n",
       "1  Working as a team or working by myself are bot...                   \n",
       "2  Though I believe I am able to handle either, I...                   \n",
       "3         Doesn't Matter, but prefer working on team                   \n",
       "4  I would prefer working individually on a small...                   \n",
       "\n",
       "                Are you going to be working remotely  \\\n",
       "0  If it’s an option, I don't mind working remotely.   \n",
       "1  Commuting to and from work is not an issue sin...   \n",
       "2                No, I will not be working remotely.   \n",
       "3                            I am fine with anything   \n",
       "4  Because I'm still studying in UC San Diego, I ...   \n",
       "\n",
       "  When do you want to start What Forkaia Platforms are you interested in  \\\n",
       "0                       NaN                                          NaN   \n",
       "1                       NaN                                          NaN   \n",
       "2                       NaN                                          NaN   \n",
       "3                       NaN                                          NaN   \n",
       "4                       NaN                                          NaN   \n",
       "\n",
       "  Pick Your Startups Pick Your Teams  \\\n",
       "0                NaN             NaN   \n",
       "1                NaN             NaN   \n",
       "2                NaN             NaN   \n",
       "3                NaN             NaN   \n",
       "4                NaN             NaN   \n",
       "\n",
       "  Please explain how you can add value to any of the Forkaia Platforms Startups or Creative Lab Projects Please be specific for example I can analyze spatial data for RUN IT BACK and determine if there is a relationship between app usage and population density or for the apps that might not have data sets I can set up algorithms and processes to ensure a clean and useful database  \\\n",
       "0                                                NaN                                                                                                                                                                                                                                                                                                                                             \n",
       "1                                                NaN                                                                                                                                                                                                                                                                                                                                             \n",
       "2                                                NaN                                                                                                                                                                                                                                                                                                                                             \n",
       "3                                                NaN                                                                                                                                                                                                                                                                                                                                             \n",
       "4                                                NaN                                                                                                                                                                                                                                                                                                                                             \n",
       "\n",
       "  What do you consider your biggest achievements in your life up until now Anything of special recognition List any Awards honors or hackathons youve won  \\\n",
       "0                                                NaN                                                                                                        \n",
       "1                                                NaN                                                                                                        \n",
       "2                                                NaN                                                                                                        \n",
       "3                                                NaN                                                                                                        \n",
       "4                                                NaN                                                                                                        \n",
       "\n",
       "  What would your ideal or fantasy job be  \\\n",
       "0                                     NaN   \n",
       "1                                     NaN   \n",
       "2                                     NaN   \n",
       "3                                     NaN   \n",
       "4                                     NaN   \n",
       "\n",
       "  What should we know about you that we didnt ask you  \n",
       "0                                                NaN   \n",
       "1                                                NaN   \n",
       "2                                                NaN   \n",
       "3                                                NaN   \n",
       "4                                                NaN   "
      ]
     },
     "execution_count": 3,
     "metadata": {},
     "output_type": "execute_result"
    }
   ],
   "source": [
    "talent_df.head()"
   ]
  },
  {
   "cell_type": "markdown",
   "metadata": {},
   "source": [
    "Change Column Names to make Table more Readable"
   ]
  },
  {
   "cell_type": "code",
   "execution_count": 4,
   "metadata": {},
   "outputs": [],
   "source": [
    "talent_df.columns = ['Submitted_on','Education_university','Skills','Desired_work','Working_style','Working_remotely','Start','Interested_platforms','Pick_startups','Pick_tasks', \n",
    "                                        'Ability_to_add_value','Biggest_achievement','Ideal_job','Additional_info']"
   ]
  },
  {
   "cell_type": "code",
   "execution_count": 5,
   "metadata": {},
   "outputs": [
    {
     "data": {
      "text/html": [
       "<div>\n",
       "<style scoped>\n",
       "    .dataframe tbody tr th:only-of-type {\n",
       "        vertical-align: middle;\n",
       "    }\n",
       "\n",
       "    .dataframe tbody tr th {\n",
       "        vertical-align: top;\n",
       "    }\n",
       "\n",
       "    .dataframe thead th {\n",
       "        text-align: right;\n",
       "    }\n",
       "</style>\n",
       "<table border=\"1\" class=\"dataframe\">\n",
       "  <thead>\n",
       "    <tr style=\"text-align: right;\">\n",
       "      <th></th>\n",
       "      <th>Submitted_on</th>\n",
       "      <th>Education_university</th>\n",
       "      <th>Skills</th>\n",
       "      <th>Desired_work</th>\n",
       "      <th>Working_style</th>\n",
       "      <th>Working_remotely</th>\n",
       "      <th>Start</th>\n",
       "      <th>Interested_platforms</th>\n",
       "      <th>Pick_startups</th>\n",
       "      <th>Pick_tasks</th>\n",
       "      <th>Ability_to_add_value</th>\n",
       "      <th>Biggest_achievement</th>\n",
       "      <th>Ideal_job</th>\n",
       "      <th>Additional_info</th>\n",
       "    </tr>\n",
       "  </thead>\n",
       "  <tbody>\n",
       "    <tr>\n",
       "      <th>0</th>\n",
       "      <td>1</td>\n",
       "      <td>Santa Clara University</td>\n",
       "      <td>More than technical skills, I would say am goo...</td>\n",
       "      <td>My prior experience was different from what I ...</td>\n",
       "      <td>Doesn't matter.</td>\n",
       "      <td>If it’s an option, I don't mind working remotely.</td>\n",
       "      <td>NaN</td>\n",
       "      <td>NaN</td>\n",
       "      <td>NaN</td>\n",
       "      <td>NaN</td>\n",
       "      <td>NaN</td>\n",
       "      <td>NaN</td>\n",
       "      <td>NaN</td>\n",
       "      <td>NaN</td>\n",
       "    </tr>\n",
       "    <tr>\n",
       "      <th>1</th>\n",
       "      <td>2</td>\n",
       "      <td>University of California, Riverside</td>\n",
       "      <td>In regards to my talents, I have a strong bac...</td>\n",
       "      <td>I hope to work in the data science field to p...</td>\n",
       "      <td>Working as a team or working by myself are bot...</td>\n",
       "      <td>Commuting to and from work is not an issue sin...</td>\n",
       "      <td>NaN</td>\n",
       "      <td>NaN</td>\n",
       "      <td>NaN</td>\n",
       "      <td>NaN</td>\n",
       "      <td>NaN</td>\n",
       "      <td>NaN</td>\n",
       "      <td>NaN</td>\n",
       "      <td>NaN</td>\n",
       "    </tr>\n",
       "    <tr>\n",
       "      <th>2</th>\n",
       "      <td>3</td>\n",
       "      <td>University of California, Berkeley</td>\n",
       "      <td>I have exceptional time management skills. As ...</td>\n",
       "      <td>Though I am relatively new to programming as I...</td>\n",
       "      <td>Though I believe I am able to handle either, I...</td>\n",
       "      <td>No, I will not be working remotely.</td>\n",
       "      <td>NaN</td>\n",
       "      <td>NaN</td>\n",
       "      <td>NaN</td>\n",
       "      <td>NaN</td>\n",
       "      <td>NaN</td>\n",
       "      <td>NaN</td>\n",
       "      <td>NaN</td>\n",
       "      <td>NaN</td>\n",
       "    </tr>\n",
       "    <tr>\n",
       "      <th>3</th>\n",
       "      <td>4</td>\n",
       "      <td>San Jose State University</td>\n",
       "      <td>I am goo with Back-end development and Machine...</td>\n",
       "      <td>I want to work on any kind of software develop...</td>\n",
       "      <td>Doesn't Matter, but prefer working on team</td>\n",
       "      <td>I am fine with anything</td>\n",
       "      <td>NaN</td>\n",
       "      <td>NaN</td>\n",
       "      <td>NaN</td>\n",
       "      <td>NaN</td>\n",
       "      <td>NaN</td>\n",
       "      <td>NaN</td>\n",
       "      <td>NaN</td>\n",
       "      <td>NaN</td>\n",
       "    </tr>\n",
       "    <tr>\n",
       "      <th>4</th>\n",
       "      <td>5</td>\n",
       "      <td>University of California, San Diego</td>\n",
       "      <td>I'm talented at self-control. I would finish m...</td>\n",
       "      <td>I would like to know more people in the workpl...</td>\n",
       "      <td>I would prefer working individually on a small...</td>\n",
       "      <td>Because I'm still studying in UC San Diego, I ...</td>\n",
       "      <td>NaN</td>\n",
       "      <td>NaN</td>\n",
       "      <td>NaN</td>\n",
       "      <td>NaN</td>\n",
       "      <td>NaN</td>\n",
       "      <td>NaN</td>\n",
       "      <td>NaN</td>\n",
       "      <td>NaN</td>\n",
       "    </tr>\n",
       "  </tbody>\n",
       "</table>\n",
       "</div>"
      ],
      "text/plain": [
       "  Submitted_on                 Education_university  \\\n",
       "0            1               Santa Clara University   \n",
       "1            2  University of California, Riverside   \n",
       "2            3   University of California, Berkeley   \n",
       "3            4            San Jose State University   \n",
       "4            5  University of California, San Diego   \n",
       "\n",
       "                                              Skills  \\\n",
       "0  More than technical skills, I would say am goo...   \n",
       "1   In regards to my talents, I have a strong bac...   \n",
       "2  I have exceptional time management skills. As ...   \n",
       "3  I am goo with Back-end development and Machine...   \n",
       "4  I'm talented at self-control. I would finish m...   \n",
       "\n",
       "                                        Desired_work  \\\n",
       "0  My prior experience was different from what I ...   \n",
       "1   I hope to work in the data science field to p...   \n",
       "2  Though I am relatively new to programming as I...   \n",
       "3  I want to work on any kind of software develop...   \n",
       "4  I would like to know more people in the workpl...   \n",
       "\n",
       "                                       Working_style  \\\n",
       "0                                    Doesn't matter.   \n",
       "1  Working as a team or working by myself are bot...   \n",
       "2  Though I believe I am able to handle either, I...   \n",
       "3         Doesn't Matter, but prefer working on team   \n",
       "4  I would prefer working individually on a small...   \n",
       "\n",
       "                                    Working_remotely Start  \\\n",
       "0  If it’s an option, I don't mind working remotely.   NaN   \n",
       "1  Commuting to and from work is not an issue sin...   NaN   \n",
       "2                No, I will not be working remotely.   NaN   \n",
       "3                            I am fine with anything   NaN   \n",
       "4  Because I'm still studying in UC San Diego, I ...   NaN   \n",
       "\n",
       "  Interested_platforms Pick_startups Pick_tasks Ability_to_add_value  \\\n",
       "0                  NaN           NaN        NaN                  NaN   \n",
       "1                  NaN           NaN        NaN                  NaN   \n",
       "2                  NaN           NaN        NaN                  NaN   \n",
       "3                  NaN           NaN        NaN                  NaN   \n",
       "4                  NaN           NaN        NaN                  NaN   \n",
       "\n",
       "  Biggest_achievement Ideal_job Additional_info  \n",
       "0                 NaN       NaN             NaN  \n",
       "1                 NaN       NaN             NaN  \n",
       "2                 NaN       NaN             NaN  \n",
       "3                 NaN       NaN             NaN  \n",
       "4                 NaN       NaN             NaN  "
      ]
     },
     "execution_count": 5,
     "metadata": {},
     "output_type": "execute_result"
    }
   ],
   "source": [
    "talent_df.head()"
   ]
  },
  {
   "cell_type": "markdown",
   "metadata": {},
   "source": [
    "Column Values and Types"
   ]
  },
  {
   "cell_type": "code",
   "execution_count": 6,
   "metadata": {},
   "outputs": [
    {
     "name": "stdout",
     "output_type": "stream",
     "text": [
      "<class 'pandas.core.frame.DataFrame'>\n",
      "RangeIndex: 3310 entries, 0 to 3309\n",
      "Data columns (total 14 columns):\n",
      " #   Column                Non-Null Count  Dtype \n",
      "---  ------                --------------  ----- \n",
      " 0   Submitted_on          3310 non-null   object\n",
      " 1   Education_university  3306 non-null   object\n",
      " 2   Skills                3309 non-null   object\n",
      " 3   Desired_work          3305 non-null   object\n",
      " 4   Working_style         3292 non-null   object\n",
      " 5   Working_remotely      3272 non-null   object\n",
      " 6   Start                 2740 non-null   object\n",
      " 7   Interested_platforms  1193 non-null   object\n",
      " 8   Pick_startups         2487 non-null   object\n",
      " 9   Pick_tasks            2487 non-null   object\n",
      " 10  Ability_to_add_value  333 non-null    object\n",
      " 11  Biggest_achievement   297 non-null    object\n",
      " 12  Ideal_job             981 non-null    object\n",
      " 13  Additional_info       1463 non-null   object\n",
      "dtypes: object(14)\n",
      "memory usage: 362.2+ KB\n"
     ]
    }
   ],
   "source": [
    "talent_df.info()"
   ]
  },
  {
   "cell_type": "markdown",
   "metadata": {},
   "source": [
    "Search for Null Values"
   ]
  },
  {
   "cell_type": "code",
   "execution_count": 7,
   "metadata": {},
   "outputs": [
    {
     "data": {
      "text/html": [
       "<div>\n",
       "<style scoped>\n",
       "    .dataframe tbody tr th:only-of-type {\n",
       "        vertical-align: middle;\n",
       "    }\n",
       "\n",
       "    .dataframe tbody tr th {\n",
       "        vertical-align: top;\n",
       "    }\n",
       "\n",
       "    .dataframe thead th {\n",
       "        text-align: right;\n",
       "    }\n",
       "</style>\n",
       "<table border=\"1\" class=\"dataframe\">\n",
       "  <thead>\n",
       "    <tr style=\"text-align: right;\">\n",
       "      <th></th>\n",
       "      <th>Submitted_on</th>\n",
       "      <th>Education_university</th>\n",
       "      <th>Skills</th>\n",
       "      <th>Desired_work</th>\n",
       "      <th>Working_style</th>\n",
       "      <th>Working_remotely</th>\n",
       "      <th>Start</th>\n",
       "      <th>Interested_platforms</th>\n",
       "      <th>Pick_startups</th>\n",
       "      <th>Pick_tasks</th>\n",
       "      <th>Ability_to_add_value</th>\n",
       "      <th>Biggest_achievement</th>\n",
       "      <th>Ideal_job</th>\n",
       "      <th>Additional_info</th>\n",
       "    </tr>\n",
       "  </thead>\n",
       "  <tbody>\n",
       "    <tr>\n",
       "      <th>0</th>\n",
       "      <td>False</td>\n",
       "      <td>False</td>\n",
       "      <td>False</td>\n",
       "      <td>False</td>\n",
       "      <td>False</td>\n",
       "      <td>False</td>\n",
       "      <td>True</td>\n",
       "      <td>True</td>\n",
       "      <td>True</td>\n",
       "      <td>True</td>\n",
       "      <td>True</td>\n",
       "      <td>True</td>\n",
       "      <td>True</td>\n",
       "      <td>True</td>\n",
       "    </tr>\n",
       "    <tr>\n",
       "      <th>1</th>\n",
       "      <td>False</td>\n",
       "      <td>False</td>\n",
       "      <td>False</td>\n",
       "      <td>False</td>\n",
       "      <td>False</td>\n",
       "      <td>False</td>\n",
       "      <td>True</td>\n",
       "      <td>True</td>\n",
       "      <td>True</td>\n",
       "      <td>True</td>\n",
       "      <td>True</td>\n",
       "      <td>True</td>\n",
       "      <td>True</td>\n",
       "      <td>True</td>\n",
       "    </tr>\n",
       "    <tr>\n",
       "      <th>2</th>\n",
       "      <td>False</td>\n",
       "      <td>False</td>\n",
       "      <td>False</td>\n",
       "      <td>False</td>\n",
       "      <td>False</td>\n",
       "      <td>False</td>\n",
       "      <td>True</td>\n",
       "      <td>True</td>\n",
       "      <td>True</td>\n",
       "      <td>True</td>\n",
       "      <td>True</td>\n",
       "      <td>True</td>\n",
       "      <td>True</td>\n",
       "      <td>True</td>\n",
       "    </tr>\n",
       "    <tr>\n",
       "      <th>3</th>\n",
       "      <td>False</td>\n",
       "      <td>False</td>\n",
       "      <td>False</td>\n",
       "      <td>False</td>\n",
       "      <td>False</td>\n",
       "      <td>False</td>\n",
       "      <td>True</td>\n",
       "      <td>True</td>\n",
       "      <td>True</td>\n",
       "      <td>True</td>\n",
       "      <td>True</td>\n",
       "      <td>True</td>\n",
       "      <td>True</td>\n",
       "      <td>True</td>\n",
       "    </tr>\n",
       "    <tr>\n",
       "      <th>4</th>\n",
       "      <td>False</td>\n",
       "      <td>False</td>\n",
       "      <td>False</td>\n",
       "      <td>False</td>\n",
       "      <td>False</td>\n",
       "      <td>False</td>\n",
       "      <td>True</td>\n",
       "      <td>True</td>\n",
       "      <td>True</td>\n",
       "      <td>True</td>\n",
       "      <td>True</td>\n",
       "      <td>True</td>\n",
       "      <td>True</td>\n",
       "      <td>True</td>\n",
       "    </tr>\n",
       "    <tr>\n",
       "      <th>...</th>\n",
       "      <td>...</td>\n",
       "      <td>...</td>\n",
       "      <td>...</td>\n",
       "      <td>...</td>\n",
       "      <td>...</td>\n",
       "      <td>...</td>\n",
       "      <td>...</td>\n",
       "      <td>...</td>\n",
       "      <td>...</td>\n",
       "      <td>...</td>\n",
       "      <td>...</td>\n",
       "      <td>...</td>\n",
       "      <td>...</td>\n",
       "      <td>...</td>\n",
       "    </tr>\n",
       "    <tr>\n",
       "      <th>3305</th>\n",
       "      <td>False</td>\n",
       "      <td>False</td>\n",
       "      <td>False</td>\n",
       "      <td>False</td>\n",
       "      <td>False</td>\n",
       "      <td>True</td>\n",
       "      <td>True</td>\n",
       "      <td>True</td>\n",
       "      <td>True</td>\n",
       "      <td>True</td>\n",
       "      <td>True</td>\n",
       "      <td>True</td>\n",
       "      <td>True</td>\n",
       "      <td>True</td>\n",
       "    </tr>\n",
       "    <tr>\n",
       "      <th>3306</th>\n",
       "      <td>False</td>\n",
       "      <td>False</td>\n",
       "      <td>False</td>\n",
       "      <td>False</td>\n",
       "      <td>False</td>\n",
       "      <td>False</td>\n",
       "      <td>True</td>\n",
       "      <td>True</td>\n",
       "      <td>True</td>\n",
       "      <td>True</td>\n",
       "      <td>True</td>\n",
       "      <td>True</td>\n",
       "      <td>True</td>\n",
       "      <td>True</td>\n",
       "    </tr>\n",
       "    <tr>\n",
       "      <th>3307</th>\n",
       "      <td>False</td>\n",
       "      <td>False</td>\n",
       "      <td>False</td>\n",
       "      <td>False</td>\n",
       "      <td>False</td>\n",
       "      <td>False</td>\n",
       "      <td>True</td>\n",
       "      <td>True</td>\n",
       "      <td>True</td>\n",
       "      <td>True</td>\n",
       "      <td>True</td>\n",
       "      <td>True</td>\n",
       "      <td>True</td>\n",
       "      <td>True</td>\n",
       "    </tr>\n",
       "    <tr>\n",
       "      <th>3308</th>\n",
       "      <td>False</td>\n",
       "      <td>False</td>\n",
       "      <td>False</td>\n",
       "      <td>False</td>\n",
       "      <td>False</td>\n",
       "      <td>False</td>\n",
       "      <td>True</td>\n",
       "      <td>True</td>\n",
       "      <td>True</td>\n",
       "      <td>True</td>\n",
       "      <td>True</td>\n",
       "      <td>True</td>\n",
       "      <td>True</td>\n",
       "      <td>True</td>\n",
       "    </tr>\n",
       "    <tr>\n",
       "      <th>3309</th>\n",
       "      <td>False</td>\n",
       "      <td>False</td>\n",
       "      <td>False</td>\n",
       "      <td>False</td>\n",
       "      <td>False</td>\n",
       "      <td>False</td>\n",
       "      <td>True</td>\n",
       "      <td>True</td>\n",
       "      <td>True</td>\n",
       "      <td>True</td>\n",
       "      <td>True</td>\n",
       "      <td>True</td>\n",
       "      <td>True</td>\n",
       "      <td>True</td>\n",
       "    </tr>\n",
       "  </tbody>\n",
       "</table>\n",
       "<p>3310 rows × 14 columns</p>\n",
       "</div>"
      ],
      "text/plain": [
       "      Submitted_on  Education_university  Skills  Desired_work  Working_style  \\\n",
       "0            False                 False   False         False          False   \n",
       "1            False                 False   False         False          False   \n",
       "2            False                 False   False         False          False   \n",
       "3            False                 False   False         False          False   \n",
       "4            False                 False   False         False          False   \n",
       "...            ...                   ...     ...           ...            ...   \n",
       "3305         False                 False   False         False          False   \n",
       "3306         False                 False   False         False          False   \n",
       "3307         False                 False   False         False          False   \n",
       "3308         False                 False   False         False          False   \n",
       "3309         False                 False   False         False          False   \n",
       "\n",
       "      Working_remotely  Start  Interested_platforms  Pick_startups  \\\n",
       "0                False   True                  True           True   \n",
       "1                False   True                  True           True   \n",
       "2                False   True                  True           True   \n",
       "3                False   True                  True           True   \n",
       "4                False   True                  True           True   \n",
       "...                ...    ...                   ...            ...   \n",
       "3305              True   True                  True           True   \n",
       "3306             False   True                  True           True   \n",
       "3307             False   True                  True           True   \n",
       "3308             False   True                  True           True   \n",
       "3309             False   True                  True           True   \n",
       "\n",
       "      Pick_tasks  Ability_to_add_value  Biggest_achievement  Ideal_job  \\\n",
       "0           True                  True                 True       True   \n",
       "1           True                  True                 True       True   \n",
       "2           True                  True                 True       True   \n",
       "3           True                  True                 True       True   \n",
       "4           True                  True                 True       True   \n",
       "...          ...                   ...                  ...        ...   \n",
       "3305        True                  True                 True       True   \n",
       "3306        True                  True                 True       True   \n",
       "3307        True                  True                 True       True   \n",
       "3308        True                  True                 True       True   \n",
       "3309        True                  True                 True       True   \n",
       "\n",
       "      Additional_info  \n",
       "0                True  \n",
       "1                True  \n",
       "2                True  \n",
       "3                True  \n",
       "4                True  \n",
       "...               ...  \n",
       "3305             True  \n",
       "3306             True  \n",
       "3307             True  \n",
       "3308             True  \n",
       "3309             True  \n",
       "\n",
       "[3310 rows x 14 columns]"
      ]
     },
     "execution_count": 7,
     "metadata": {},
     "output_type": "execute_result"
    }
   ],
   "source": [
    "talent_df.isna()"
   ]
  },
  {
   "cell_type": "markdown",
   "metadata": {},
   "source": [
    "Fill Null Values with some common description"
   ]
  },
  {
   "cell_type": "code",
   "execution_count": 8,
   "metadata": {},
   "outputs": [],
   "source": [
    "talent_df.fillna('No details present', inplace=True)"
   ]
  },
  {
   "cell_type": "code",
   "execution_count": 9,
   "metadata": {},
   "outputs": [
    {
     "data": {
      "text/html": [
       "<div>\n",
       "<style scoped>\n",
       "    .dataframe tbody tr th:only-of-type {\n",
       "        vertical-align: middle;\n",
       "    }\n",
       "\n",
       "    .dataframe tbody tr th {\n",
       "        vertical-align: top;\n",
       "    }\n",
       "\n",
       "    .dataframe thead th {\n",
       "        text-align: right;\n",
       "    }\n",
       "</style>\n",
       "<table border=\"1\" class=\"dataframe\">\n",
       "  <thead>\n",
       "    <tr style=\"text-align: right;\">\n",
       "      <th></th>\n",
       "      <th>Submitted_on</th>\n",
       "      <th>Education_university</th>\n",
       "      <th>Skills</th>\n",
       "      <th>Desired_work</th>\n",
       "      <th>Working_style</th>\n",
       "      <th>Working_remotely</th>\n",
       "      <th>Start</th>\n",
       "      <th>Interested_platforms</th>\n",
       "      <th>Pick_startups</th>\n",
       "      <th>Pick_tasks</th>\n",
       "      <th>Ability_to_add_value</th>\n",
       "      <th>Biggest_achievement</th>\n",
       "      <th>Ideal_job</th>\n",
       "      <th>Additional_info</th>\n",
       "    </tr>\n",
       "  </thead>\n",
       "  <tbody>\n",
       "    <tr>\n",
       "      <th>0</th>\n",
       "      <td>1</td>\n",
       "      <td>Santa Clara University</td>\n",
       "      <td>More than technical skills, I would say am goo...</td>\n",
       "      <td>My prior experience was different from what I ...</td>\n",
       "      <td>Doesn't matter.</td>\n",
       "      <td>If it’s an option, I don't mind working remotely.</td>\n",
       "      <td>No details present</td>\n",
       "      <td>No details present</td>\n",
       "      <td>No details present</td>\n",
       "      <td>No details present</td>\n",
       "      <td>No details present</td>\n",
       "      <td>No details present</td>\n",
       "      <td>No details present</td>\n",
       "      <td>No details present</td>\n",
       "    </tr>\n",
       "    <tr>\n",
       "      <th>1</th>\n",
       "      <td>2</td>\n",
       "      <td>University of California, Riverside</td>\n",
       "      <td>In regards to my talents, I have a strong bac...</td>\n",
       "      <td>I hope to work in the data science field to p...</td>\n",
       "      <td>Working as a team or working by myself are bot...</td>\n",
       "      <td>Commuting to and from work is not an issue sin...</td>\n",
       "      <td>No details present</td>\n",
       "      <td>No details present</td>\n",
       "      <td>No details present</td>\n",
       "      <td>No details present</td>\n",
       "      <td>No details present</td>\n",
       "      <td>No details present</td>\n",
       "      <td>No details present</td>\n",
       "      <td>No details present</td>\n",
       "    </tr>\n",
       "    <tr>\n",
       "      <th>2</th>\n",
       "      <td>3</td>\n",
       "      <td>University of California, Berkeley</td>\n",
       "      <td>I have exceptional time management skills. As ...</td>\n",
       "      <td>Though I am relatively new to programming as I...</td>\n",
       "      <td>Though I believe I am able to handle either, I...</td>\n",
       "      <td>No, I will not be working remotely.</td>\n",
       "      <td>No details present</td>\n",
       "      <td>No details present</td>\n",
       "      <td>No details present</td>\n",
       "      <td>No details present</td>\n",
       "      <td>No details present</td>\n",
       "      <td>No details present</td>\n",
       "      <td>No details present</td>\n",
       "      <td>No details present</td>\n",
       "    </tr>\n",
       "    <tr>\n",
       "      <th>3</th>\n",
       "      <td>4</td>\n",
       "      <td>San Jose State University</td>\n",
       "      <td>I am goo with Back-end development and Machine...</td>\n",
       "      <td>I want to work on any kind of software develop...</td>\n",
       "      <td>Doesn't Matter, but prefer working on team</td>\n",
       "      <td>I am fine with anything</td>\n",
       "      <td>No details present</td>\n",
       "      <td>No details present</td>\n",
       "      <td>No details present</td>\n",
       "      <td>No details present</td>\n",
       "      <td>No details present</td>\n",
       "      <td>No details present</td>\n",
       "      <td>No details present</td>\n",
       "      <td>No details present</td>\n",
       "    </tr>\n",
       "    <tr>\n",
       "      <th>4</th>\n",
       "      <td>5</td>\n",
       "      <td>University of California, San Diego</td>\n",
       "      <td>I'm talented at self-control. I would finish m...</td>\n",
       "      <td>I would like to know more people in the workpl...</td>\n",
       "      <td>I would prefer working individually on a small...</td>\n",
       "      <td>Because I'm still studying in UC San Diego, I ...</td>\n",
       "      <td>No details present</td>\n",
       "      <td>No details present</td>\n",
       "      <td>No details present</td>\n",
       "      <td>No details present</td>\n",
       "      <td>No details present</td>\n",
       "      <td>No details present</td>\n",
       "      <td>No details present</td>\n",
       "      <td>No details present</td>\n",
       "    </tr>\n",
       "  </tbody>\n",
       "</table>\n",
       "</div>"
      ],
      "text/plain": [
       "  Submitted_on                 Education_university  \\\n",
       "0            1               Santa Clara University   \n",
       "1            2  University of California, Riverside   \n",
       "2            3   University of California, Berkeley   \n",
       "3            4            San Jose State University   \n",
       "4            5  University of California, San Diego   \n",
       "\n",
       "                                              Skills  \\\n",
       "0  More than technical skills, I would say am goo...   \n",
       "1   In regards to my talents, I have a strong bac...   \n",
       "2  I have exceptional time management skills. As ...   \n",
       "3  I am goo with Back-end development and Machine...   \n",
       "4  I'm talented at self-control. I would finish m...   \n",
       "\n",
       "                                        Desired_work  \\\n",
       "0  My prior experience was different from what I ...   \n",
       "1   I hope to work in the data science field to p...   \n",
       "2  Though I am relatively new to programming as I...   \n",
       "3  I want to work on any kind of software develop...   \n",
       "4  I would like to know more people in the workpl...   \n",
       "\n",
       "                                       Working_style  \\\n",
       "0                                    Doesn't matter.   \n",
       "1  Working as a team or working by myself are bot...   \n",
       "2  Though I believe I am able to handle either, I...   \n",
       "3         Doesn't Matter, but prefer working on team   \n",
       "4  I would prefer working individually on a small...   \n",
       "\n",
       "                                    Working_remotely               Start  \\\n",
       "0  If it’s an option, I don't mind working remotely.  No details present   \n",
       "1  Commuting to and from work is not an issue sin...  No details present   \n",
       "2                No, I will not be working remotely.  No details present   \n",
       "3                            I am fine with anything  No details present   \n",
       "4  Because I'm still studying in UC San Diego, I ...  No details present   \n",
       "\n",
       "  Interested_platforms       Pick_startups          Pick_tasks  \\\n",
       "0   No details present  No details present  No details present   \n",
       "1   No details present  No details present  No details present   \n",
       "2   No details present  No details present  No details present   \n",
       "3   No details present  No details present  No details present   \n",
       "4   No details present  No details present  No details present   \n",
       "\n",
       "  Ability_to_add_value Biggest_achievement           Ideal_job  \\\n",
       "0   No details present  No details present  No details present   \n",
       "1   No details present  No details present  No details present   \n",
       "2   No details present  No details present  No details present   \n",
       "3   No details present  No details present  No details present   \n",
       "4   No details present  No details present  No details present   \n",
       "\n",
       "      Additional_info  \n",
       "0  No details present  \n",
       "1  No details present  \n",
       "2  No details present  \n",
       "3  No details present  \n",
       "4  No details present  "
      ]
     },
     "execution_count": 9,
     "metadata": {},
     "output_type": "execute_result"
    }
   ],
   "source": [
    "talent_df.head()"
   ]
  },
  {
   "cell_type": "code",
   "execution_count": 10,
   "metadata": {},
   "outputs": [
    {
     "data": {
      "text/plain": [
       "Submitted_on            0\n",
       "Education_university    0\n",
       "Skills                  0\n",
       "Desired_work            0\n",
       "Working_style           0\n",
       "Working_remotely        0\n",
       "Start                   0\n",
       "Interested_platforms    0\n",
       "Pick_startups           0\n",
       "Pick_tasks              0\n",
       "Ability_to_add_value    0\n",
       "Biggest_achievement     0\n",
       "Ideal_job               0\n",
       "Additional_info         0\n",
       "dtype: int64"
      ]
     },
     "execution_count": 10,
     "metadata": {},
     "output_type": "execute_result"
    }
   ],
   "source": [
    "talent_df.isna().sum()"
   ]
  },
  {
   "cell_type": "markdown",
   "metadata": {},
   "source": [
    "Applying lower case to make searching easier"
   ]
  },
  {
   "cell_type": "code",
   "execution_count": 11,
   "metadata": {},
   "outputs": [],
   "source": [
    "for col in talent_df.columns[1:]:\n",
    "    talent_df[col] = talent_df[col].astype(str).str.lower()"
   ]
  },
  {
   "cell_type": "markdown",
   "metadata": {},
   "source": [
    "Combining All Columns into One to Improve Search Time"
   ]
  },
  {
   "cell_type": "code",
   "execution_count": 12,
   "metadata": {},
   "outputs": [],
   "source": [
    "import nltk\n",
    "from nltk.corpus import stopwords\n",
    "stop = stopwords.words('english')\n",
    "punctuations = ['.', ',', '[', '/', '?', ';', ':', ')', '(', \"'\"]"
   ]
  },
  {
   "cell_type": "code",
   "execution_count": 13,
   "metadata": {},
   "outputs": [],
   "source": [
    "talent_info = talent_df[['Skills', 'Desired_work', 'Ability_to_add_value', 'Biggest_achievement']]"
   ]
  },
  {
   "cell_type": "code",
   "execution_count": 14,
   "metadata": {},
   "outputs": [],
   "source": [
    "talent_df = talent_df.assign(Combined=talent_info.iloc[:, 0:].apply(lambda x: '. '.join(x), axis=1).iloc[:])"
   ]
  },
  {
   "cell_type": "code",
   "execution_count": 15,
   "metadata": {},
   "outputs": [
    {
     "data": {
      "text/html": [
       "<div>\n",
       "<style scoped>\n",
       "    .dataframe tbody tr th:only-of-type {\n",
       "        vertical-align: middle;\n",
       "    }\n",
       "\n",
       "    .dataframe tbody tr th {\n",
       "        vertical-align: top;\n",
       "    }\n",
       "\n",
       "    .dataframe thead th {\n",
       "        text-align: right;\n",
       "    }\n",
       "</style>\n",
       "<table border=\"1\" class=\"dataframe\">\n",
       "  <thead>\n",
       "    <tr style=\"text-align: right;\">\n",
       "      <th></th>\n",
       "      <th>Submitted_on</th>\n",
       "      <th>Education_university</th>\n",
       "      <th>Skills</th>\n",
       "      <th>Desired_work</th>\n",
       "      <th>Working_style</th>\n",
       "      <th>Working_remotely</th>\n",
       "      <th>Start</th>\n",
       "      <th>Interested_platforms</th>\n",
       "      <th>Pick_startups</th>\n",
       "      <th>Pick_tasks</th>\n",
       "      <th>Ability_to_add_value</th>\n",
       "      <th>Biggest_achievement</th>\n",
       "      <th>Ideal_job</th>\n",
       "      <th>Additional_info</th>\n",
       "      <th>Combined</th>\n",
       "    </tr>\n",
       "  </thead>\n",
       "  <tbody>\n",
       "    <tr>\n",
       "      <th>0</th>\n",
       "      <td>1</td>\n",
       "      <td>santa clara university</td>\n",
       "      <td>more than technical skills, i would say am goo...</td>\n",
       "      <td>my prior experience was different from what i ...</td>\n",
       "      <td>doesn't matter.</td>\n",
       "      <td>if it’s an option, i don't mind working remotely.</td>\n",
       "      <td>no details present</td>\n",
       "      <td>no details present</td>\n",
       "      <td>no details present</td>\n",
       "      <td>no details present</td>\n",
       "      <td>no details present</td>\n",
       "      <td>no details present</td>\n",
       "      <td>no details present</td>\n",
       "      <td>no details present</td>\n",
       "      <td>more than technical skills, i would say am goo...</td>\n",
       "    </tr>\n",
       "    <tr>\n",
       "      <th>1</th>\n",
       "      <td>2</td>\n",
       "      <td>university of california, riverside</td>\n",
       "      <td>in regards to my talents, i have a strong bac...</td>\n",
       "      <td>i hope to work in the data science field to p...</td>\n",
       "      <td>working as a team or working by myself are bot...</td>\n",
       "      <td>commuting to and from work is not an issue sin...</td>\n",
       "      <td>no details present</td>\n",
       "      <td>no details present</td>\n",
       "      <td>no details present</td>\n",
       "      <td>no details present</td>\n",
       "      <td>no details present</td>\n",
       "      <td>no details present</td>\n",
       "      <td>no details present</td>\n",
       "      <td>no details present</td>\n",
       "      <td>in regards to my talents, i have a strong bac...</td>\n",
       "    </tr>\n",
       "    <tr>\n",
       "      <th>2</th>\n",
       "      <td>3</td>\n",
       "      <td>university of california, berkeley</td>\n",
       "      <td>i have exceptional time management skills. as ...</td>\n",
       "      <td>though i am relatively new to programming as i...</td>\n",
       "      <td>though i believe i am able to handle either, i...</td>\n",
       "      <td>no, i will not be working remotely.</td>\n",
       "      <td>no details present</td>\n",
       "      <td>no details present</td>\n",
       "      <td>no details present</td>\n",
       "      <td>no details present</td>\n",
       "      <td>no details present</td>\n",
       "      <td>no details present</td>\n",
       "      <td>no details present</td>\n",
       "      <td>no details present</td>\n",
       "      <td>i have exceptional time management skills. as ...</td>\n",
       "    </tr>\n",
       "    <tr>\n",
       "      <th>3</th>\n",
       "      <td>4</td>\n",
       "      <td>san jose state university</td>\n",
       "      <td>i am goo with back-end development and machine...</td>\n",
       "      <td>i want to work on any kind of software develop...</td>\n",
       "      <td>doesn't matter, but prefer working on team</td>\n",
       "      <td>i am fine with anything</td>\n",
       "      <td>no details present</td>\n",
       "      <td>no details present</td>\n",
       "      <td>no details present</td>\n",
       "      <td>no details present</td>\n",
       "      <td>no details present</td>\n",
       "      <td>no details present</td>\n",
       "      <td>no details present</td>\n",
       "      <td>no details present</td>\n",
       "      <td>i am goo with back-end development and machine...</td>\n",
       "    </tr>\n",
       "    <tr>\n",
       "      <th>4</th>\n",
       "      <td>5</td>\n",
       "      <td>university of california, san diego</td>\n",
       "      <td>i'm talented at self-control. i would finish m...</td>\n",
       "      <td>i would like to know more people in the workpl...</td>\n",
       "      <td>i would prefer working individually on a small...</td>\n",
       "      <td>because i'm still studying in uc san diego, i ...</td>\n",
       "      <td>no details present</td>\n",
       "      <td>no details present</td>\n",
       "      <td>no details present</td>\n",
       "      <td>no details present</td>\n",
       "      <td>no details present</td>\n",
       "      <td>no details present</td>\n",
       "      <td>no details present</td>\n",
       "      <td>no details present</td>\n",
       "      <td>i'm talented at self-control. i would finish m...</td>\n",
       "    </tr>\n",
       "  </tbody>\n",
       "</table>\n",
       "</div>"
      ],
      "text/plain": [
       "  Submitted_on                 Education_university  \\\n",
       "0            1               santa clara university   \n",
       "1            2  university of california, riverside   \n",
       "2            3   university of california, berkeley   \n",
       "3            4            san jose state university   \n",
       "4            5  university of california, san diego   \n",
       "\n",
       "                                              Skills  \\\n",
       "0  more than technical skills, i would say am goo...   \n",
       "1   in regards to my talents, i have a strong bac...   \n",
       "2  i have exceptional time management skills. as ...   \n",
       "3  i am goo with back-end development and machine...   \n",
       "4  i'm talented at self-control. i would finish m...   \n",
       "\n",
       "                                        Desired_work  \\\n",
       "0  my prior experience was different from what i ...   \n",
       "1   i hope to work in the data science field to p...   \n",
       "2  though i am relatively new to programming as i...   \n",
       "3  i want to work on any kind of software develop...   \n",
       "4  i would like to know more people in the workpl...   \n",
       "\n",
       "                                       Working_style  \\\n",
       "0                                    doesn't matter.   \n",
       "1  working as a team or working by myself are bot...   \n",
       "2  though i believe i am able to handle either, i...   \n",
       "3         doesn't matter, but prefer working on team   \n",
       "4  i would prefer working individually on a small...   \n",
       "\n",
       "                                    Working_remotely               Start  \\\n",
       "0  if it’s an option, i don't mind working remotely.  no details present   \n",
       "1  commuting to and from work is not an issue sin...  no details present   \n",
       "2                no, i will not be working remotely.  no details present   \n",
       "3                            i am fine with anything  no details present   \n",
       "4  because i'm still studying in uc san diego, i ...  no details present   \n",
       "\n",
       "  Interested_platforms       Pick_startups          Pick_tasks  \\\n",
       "0   no details present  no details present  no details present   \n",
       "1   no details present  no details present  no details present   \n",
       "2   no details present  no details present  no details present   \n",
       "3   no details present  no details present  no details present   \n",
       "4   no details present  no details present  no details present   \n",
       "\n",
       "  Ability_to_add_value Biggest_achievement           Ideal_job  \\\n",
       "0   no details present  no details present  no details present   \n",
       "1   no details present  no details present  no details present   \n",
       "2   no details present  no details present  no details present   \n",
       "3   no details present  no details present  no details present   \n",
       "4   no details present  no details present  no details present   \n",
       "\n",
       "      Additional_info                                           Combined  \n",
       "0  no details present  more than technical skills, i would say am goo...  \n",
       "1  no details present   in regards to my talents, i have a strong bac...  \n",
       "2  no details present  i have exceptional time management skills. as ...  \n",
       "3  no details present  i am goo with back-end development and machine...  \n",
       "4  no details present  i'm talented at self-control. i would finish m...  "
      ]
     },
     "execution_count": 15,
     "metadata": {},
     "output_type": "execute_result"
    }
   ],
   "source": [
    "talent_df.head()"
   ]
  },
  {
   "cell_type": "markdown",
   "metadata": {},
   "source": [
    "Search for Number of Bachelor Degree Holders"
   ]
  },
  {
   "cell_type": "code",
   "execution_count": 16,
   "metadata": {},
   "outputs": [],
   "source": [
    "import re\n",
    "sub_patterns = ['Masters of [A-Z][a-z]* [A-Z][a-z]* [A-Z][a-z]* ',\n",
    "                        'Bachelors of [A-Z][a-z]* [A-Z][a-z]* [A-Z][a-z]*',\n",
    "                        'Diploma in  [A-Z][a-z]* [A-Z][a-z]* [A-Z][a-z]*',\n",
    "                        'B [A-Z][a-z]* [A-Z][a-z]*',\n",
    "                        'M [A-Z][a-z]* [A-Z][a-z]*'] \n",
    "pattern = '({})'.format('|'.join(sub_patterns))\n",
    "for n in talent_df['Education_university']:\n",
    "    matches = re.findall(pattern, n)"
   ]
  },
  {
   "cell_type": "markdown",
   "metadata": {},
   "source": [
    "Search for Number of Masters Degree Holders"
   ]
  },
  {
   "cell_type": "code",
   "execution_count": 17,
   "metadata": {},
   "outputs": [
    {
     "name": "stdout",
     "output_type": "stream",
     "text": [
      "803 Masters Degrees\n"
     ]
    }
   ],
   "source": [
    "sub_patterns = ['master']\n",
    "masters_students = []\n",
    "pattern = '({})'.format('|'.join(sub_patterns))\n",
    "for n in talent_df['Education_university']:\n",
    "    matches = re.findall(pattern, n)\n",
    "    if len(matches) > 0:\n",
    "        masters_students.append(matches)\n",
    "print(str(len(masters_students)) + ' Masters Degrees')"
   ]
  },
  {
   "cell_type": "markdown",
   "metadata": {},
   "source": [
    "Search for Number of PHD Holders"
   ]
  },
  {
   "cell_type": "code",
   "execution_count": 18,
   "metadata": {},
   "outputs": [
    {
     "name": "stdout",
     "output_type": "stream",
     "text": [
      "19 PHDs\n"
     ]
    }
   ],
   "source": [
    "sub_patterns = ['phd']\n",
    "phd_students = []\n",
    "pattern = '({})'.format('|'.join(sub_patterns))\n",
    "for n in talent_df['Education_university']:\n",
    "    matches = re.findall(pattern, n)\n",
    "    if len(matches) > 0:\n",
    "        phd_students.append(matches)\n",
    "print(str(len(phd_students)) + ' PHDs')"
   ]
  },
  {
   "cell_type": "markdown",
   "metadata": {},
   "source": [
    "Search for Number of MDs"
   ]
  },
  {
   "cell_type": "code",
   "execution_count": 19,
   "metadata": {},
   "outputs": [
    {
     "name": "stdout",
     "output_type": "stream",
     "text": [
      "2 MDs\n"
     ]
    }
   ],
   "source": [
    "sub_patterns = ['md']\n",
    "md_students = []\n",
    "pattern = '({})'.format('|'.join(sub_patterns))\n",
    "for n in talent_df['Education_university']:\n",
    "    matches = re.findall(pattern, n)\n",
    "    if len(matches) > 0:\n",
    "        md_students.append(matches)\n",
    "print(str(len(md_students)) + ' MDs')"
   ]
  },
  {
   "cell_type": "markdown",
   "metadata": {},
   "source": [
    "Search for Number of Data Scientists"
   ]
  },
  {
   "cell_type": "code",
   "execution_count": 20,
   "metadata": {},
   "outputs": [
    {
     "name": "stdout",
     "output_type": "stream",
     "text": [
      "1464 Data Scientists\n"
     ]
    }
   ],
   "source": [
    "sub_patterns = ['data science', 'data analysis', 'data analytics']\n",
    "data_scientists = []\n",
    "pattern = '({})'.format('|'.join(sub_patterns))\n",
    "for n in talent_df['Combined']:\n",
    "    matches = re.findall(pattern, n)\n",
    "    if len(matches) > 0:\n",
    "        data_scientists.append(matches)\n",
    "print(str(len(data_scientists)) + ' Data Scientists')"
   ]
  },
  {
   "cell_type": "markdown",
   "metadata": {},
   "source": [
    "Search for Number of Computer Scientists"
   ]
  },
  {
   "cell_type": "code",
   "execution_count": 21,
   "metadata": {},
   "outputs": [
    {
     "name": "stdout",
     "output_type": "stream",
     "text": [
      "277 Computer Scientists\n"
     ]
    }
   ],
   "source": [
    "sub_patterns = ['computer science']\n",
    "computer_scientists = []\n",
    "pattern = '({})'.format('|'.join(sub_patterns))\n",
    "for n in talent_df['Combined']:\n",
    "    matches = re.findall(pattern, n)\n",
    "    if len(matches) > 0:\n",
    "        computer_scientists.append(matches)\n",
    "print(str(len(computer_scientists)) + ' Computer Scientists')"
   ]
  },
  {
   "cell_type": "markdown",
   "metadata": {},
   "source": [
    "Search for Number of Software Engineers"
   ]
  },
  {
   "cell_type": "code",
   "execution_count": 22,
   "metadata": {},
   "outputs": [
    {
     "name": "stdout",
     "output_type": "stream",
     "text": [
      "61 Software Engineers\n"
     ]
    }
   ],
   "source": [
    "sub_patterns = ['software engineering']\n",
    "software_engineers = []\n",
    "pattern = '({})'.format('|'.join(sub_patterns))\n",
    "for n in talent_df['Combined']:\n",
    "    matches = re.findall(pattern, n)\n",
    "    if len(matches) > 0:\n",
    "        software_engineers.append(matches)\n",
    "print(str(len(software_engineers)) + ' Software Engineers')"
   ]
  },
  {
   "cell_type": "markdown",
   "metadata": {},
   "source": [
    "Search for Number of Hackathon Winners"
   ]
  },
  {
   "cell_type": "code",
   "execution_count": 23,
   "metadata": {},
   "outputs": [
    {
     "name": "stdout",
     "output_type": "stream",
     "text": [
      "11 Hackathon Prize Winners\n"
     ]
    }
   ],
   "source": [
    "sub_pattern_one = ['prize', 'won', 'honor', 'award']\n",
    "sub_pattern_two = ['hackathon']\n",
    "pattern_one = '({})'.format('|'.join(sub_pattern_one))\n",
    "pattern_two = '({})'.format('|'.join(sub_pattern_two))\n",
    "hackathon_winners = []\n",
    "for n in talent_df['Combined']:\n",
    "    matches_one = re.findall(pattern_one, n)\n",
    "    matches_two = re.findall(pattern_two, n)\n",
    "    if len(matches_one) > 0 and len(matches_two) > 0:\n",
    "        hackathon_winners.append(matches_one)\n",
    "print(str(len(hackathon_winners)) + ' Hackathon Prize Winners')"
   ]
  },
  {
   "cell_type": "markdown",
   "metadata": {},
   "source": [
    "Search for Number of Scholarships"
   ]
  },
  {
   "cell_type": "code",
   "execution_count": 24,
   "metadata": {},
   "outputs": [
    {
     "name": "stdout",
     "output_type": "stream",
     "text": [
      "209 Scholarship Winners\n"
     ]
    }
   ],
   "source": [
    "sub_pattern_two = ['scholar', 'prize', 'award', 'certification', 'honor']\n",
    "pattern_two = '({})'.format('|'.join(sub_pattern_two))\n",
    "scholarships = []\n",
    "scholIndices = []\n",
    "for n in range(talent_df.shape[0]):\n",
    "    matches_two = re.findall(pattern_two, talent_df.iloc[n]['Combined'])\n",
    "    if len(matches_two) > 0:\n",
    "        scholarships.append(matches_two)\n",
    "        scholIndices.append(n)\n",
    "print(str(len(scholarships)) + ' Scholarship Winners')"
   ]
  },
  {
   "cell_type": "markdown",
   "metadata": {},
   "source": [
    "Looking for Keywords to do Searches For"
   ]
  },
  {
   "cell_type": "markdown",
   "metadata": {},
   "source": [
    "Looking for people to fit with each team"
   ]
  },
  {
   "cell_type": "code",
   "execution_count": 25,
   "metadata": {},
   "outputs": [
    {
     "name": "stdout",
     "output_type": "stream",
     "text": [
      "660 Web Developers\n"
     ]
    }
   ],
   "source": [
    "sub_patterns = ['developer', 'app', 'mobile', 'front end', 'back end']\n",
    "pattern = '({})'.format('|'.join(sub_patterns))\n",
    "developers = []\n",
    "for n in talent_df['Skills']:\n",
    "    matches = re.findall(pattern, n)\n",
    "    if len(matches) > 0:\n",
    "        developers.append(matches)\n",
    "print(str(len(developers)) + ' Web Developers')"
   ]
  },
  {
   "cell_type": "code",
   "execution_count": 26,
   "metadata": {
    "scrolled": true
   },
   "outputs": [
    {
     "name": "stdout",
     "output_type": "stream",
     "text": [
      "1224 Graphic Designers\n"
     ]
    }
   ],
   "source": [
    "sub_patterns = ['design', 'ux', 'ui']\n",
    "pattern = '({})'.format('|'.join(sub_patterns))\n",
    "designers = []\n",
    "for n in talent_df['Skills']:\n",
    "    matches = re.findall(pattern, n)\n",
    "    if len(matches) > 0:\n",
    "        designers.append(matches)\n",
    "print(str(len(designers)) + ' Graphic Designers')"
   ]
  },
  {
   "cell_type": "code",
   "execution_count": 27,
   "metadata": {},
   "outputs": [
    {
     "name": "stdout",
     "output_type": "stream",
     "text": [
      "240 in Marketing\n"
     ]
    }
   ],
   "source": [
    "sub_patterns = ['marketing', 'sales', 'social media']\n",
    "pattern = '({})'.format('|'.join(sub_patterns))\n",
    "marketers = []\n",
    "for n in talent_df['Skills']:\n",
    "    matches = re.findall(pattern, n)\n",
    "    if len(matches) > 0:\n",
    "        marketers.append(matches)\n",
    "print(str(len(marketers)) + ' in Marketing')"
   ]
  },
  {
   "cell_type": "code",
   "execution_count": 28,
   "metadata": {},
   "outputs": [
    {
     "name": "stdout",
     "output_type": "stream",
     "text": [
      "1234 work with data\n"
     ]
    }
   ],
   "source": [
    "sub_patterns = ['data analysis', 'data science', 'data mining']\n",
    "pattern = '({})'.format('|'.join(sub_patterns))\n",
    "data_people = []\n",
    "for n in talent_df['Combined']:\n",
    "    matches = re.findall(pattern, n)\n",
    "    if len(matches) > 0:\n",
    "        data_people.append(matches)\n",
    "print(str(len(data_people)) + ' work with data')"
   ]
  },
  {
   "cell_type": "markdown",
   "metadata": {},
   "source": [
    "Looking for Key Phrases to Describe Every Person"
   ]
  },
  {
   "cell_type": "code",
   "execution_count": 29,
   "metadata": {},
   "outputs": [],
   "source": [
    "keyphrases = []\n",
    "keyScores = []\n",
    "for i in range(talent_df.shape[0]):\n",
    "    r = Rake(stopwords=stop, punctuations=punctuations)\n",
    "    r.extract_keywords_from_text(talent_df.iloc[i]['Combined'])\n",
    "    keyScores.append(r.get_ranked_phrases_with_scores()[:1])\n",
    "    keyphrases.append(r.get_ranked_phrases_with_scores()[:1][0][1])"
   ]
  },
  {
   "cell_type": "code",
   "execution_count": 30,
   "metadata": {},
   "outputs": [],
   "source": [
    "talent_df = talent_df.assign(PhraseScores=pd.Series(keyScores))\n",
    "talent_df = talent_df.assign(Phrases=pd.Series(keyphrases))"
   ]
  },
  {
   "cell_type": "code",
   "execution_count": 31,
   "metadata": {},
   "outputs": [],
   "source": [
    "schol_winners = talent_df[['Combined', 'PhraseScores']].iloc[scholIndices][['PhraseScores']]"
   ]
  },
  {
   "cell_type": "markdown",
   "metadata": {},
   "source": [
    "Some of the Award Recipients"
   ]
  },
  {
   "cell_type": "code",
   "execution_count": 32,
   "metadata": {},
   "outputs": [
    {
     "data": {
      "text/html": [
       "<div>\n",
       "<style scoped>\n",
       "    .dataframe tbody tr th:only-of-type {\n",
       "        vertical-align: middle;\n",
       "    }\n",
       "\n",
       "    .dataframe tbody tr th {\n",
       "        vertical-align: top;\n",
       "    }\n",
       "\n",
       "    .dataframe thead th {\n",
       "        text-align: right;\n",
       "    }\n",
       "</style>\n",
       "<table border=\"1\" class=\"dataframe\">\n",
       "  <thead>\n",
       "    <tr style=\"text-align: right;\">\n",
       "      <th></th>\n",
       "      <th>Phrases</th>\n",
       "    </tr>\n",
       "  </thead>\n",
       "  <tbody>\n",
       "    <tr>\n",
       "      <th>3082</th>\n",
       "      <td>css .. 2019 &amp; 2020 merit scholarship carnegie ...</td>\n",
       "    </tr>\n",
       "    <tr>\n",
       "      <th>3081</th>\n",
       "      <td>css .. 2019 &amp; 2020 merit scholarship carnegie ...</td>\n",
       "    </tr>\n",
       "    <tr>\n",
       "      <th>3219</th>\n",
       "      <td>northwestern university ), united states naval...</td>\n",
       "    </tr>\n",
       "    <tr>\n",
       "      <th>3180</th>\n",
       "      <td>support decision - making .. graduate assistan...</td>\n",
       "    </tr>\n",
       "    <tr>\n",
       "      <th>2970</th>\n",
       "      <td>increase user retention .. urop — undergraduat...</td>\n",
       "    </tr>\n",
       "    <tr>\n",
       "      <th>...</th>\n",
       "      <td>...</td>\n",
       "    </tr>\n",
       "    <tr>\n",
       "      <th>3253</th>\n",
       "      <td>graduated high school</td>\n",
       "    </tr>\n",
       "    <tr>\n",
       "      <th>3254</th>\n",
       "      <td>taking graded classes</td>\n",
       "    </tr>\n",
       "    <tr>\n",
       "      <th>3276</th>\n",
       "      <td>download usage ..</td>\n",
       "    </tr>\n",
       "    <tr>\n",
       "      <th>3132</th>\n",
       "      <td>complex task ..</td>\n",
       "    </tr>\n",
       "    <tr>\n",
       "      <th>3106</th>\n",
       "      <td>would like</td>\n",
       "    </tr>\n",
       "  </tbody>\n",
       "</table>\n",
       "<p>209 rows × 1 columns</p>\n",
       "</div>"
      ],
      "text/plain": [
       "                                                Phrases\n",
       "3082  css .. 2019 & 2020 merit scholarship carnegie ...\n",
       "3081  css .. 2019 & 2020 merit scholarship carnegie ...\n",
       "3219  northwestern university ), united states naval...\n",
       "3180  support decision - making .. graduate assistan...\n",
       "2970  increase user retention .. urop — undergraduat...\n",
       "...                                                 ...\n",
       "3253                              graduated high school\n",
       "3254                              taking graded classes\n",
       "3276                                  download usage ..\n",
       "3132                                    complex task ..\n",
       "3106                                         would like\n",
       "\n",
       "[209 rows x 1 columns]"
      ]
     },
     "execution_count": 32,
     "metadata": {},
     "output_type": "execute_result"
    }
   ],
   "source": [
    "scholIndexDict = {}\n",
    "for i in range(schol_winners.shape[0]):\n",
    "    scholIndexDict[schol_winners.index[i]] = schol_winners['PhraseScores'].iloc[i][0][0]\n",
    "scholIndexDict = {k: v for k, v in sorted(scholIndexDict.items(), key=lambda item: item[1], reverse=True)}\n",
    "awards = talent_df.iloc[list(scholIndexDict.keys())][['Phrases']]\n",
    "awards"
   ]
  },
  {
   "cell_type": "code",
   "execution_count": 33,
   "metadata": {},
   "outputs": [],
   "source": [
    "ranking_words = ['president', 'scholarship', 'merit', 'award']"
   ]
  },
  {
   "cell_type": "code",
   "execution_count": 34,
   "metadata": {},
   "outputs": [],
   "source": [
    "highlighted = list()"
   ]
  },
  {
   "cell_type": "code",
   "execution_count": 35,
   "metadata": {},
   "outputs": [],
   "source": [
    "for word in ranking_words:\n",
    "    booleans = awards['Phrases'].str.contains(word)\n",
    "    selected = booleans[booleans].index\n",
    "    for note in selected:\n",
    "        highlighted.append(awards.loc[note]['Phrases'])"
   ]
  },
  {
   "cell_type": "code",
   "execution_count": 36,
   "metadata": {},
   "outputs": [],
   "source": [
    "highlighted = pd.Series(highlighted, name='Awards')\n",
    "highlighted = highlighted.drop_duplicates()\n",
    "highlighted.index = list(range(0, highlighted.shape[0]))"
   ]
  },
  {
   "cell_type": "code",
   "execution_count": 37,
   "metadata": {
    "scrolled": true
   },
   "outputs": [
    {
     "data": {
      "text/html": [
       "<div>\n",
       "<style scoped>\n",
       "    .dataframe tbody tr th:only-of-type {\n",
       "        vertical-align: middle;\n",
       "    }\n",
       "\n",
       "    .dataframe tbody tr th {\n",
       "        vertical-align: top;\n",
       "    }\n",
       "\n",
       "    .dataframe thead th {\n",
       "        text-align: right;\n",
       "    }\n",
       "</style>\n",
       "<table border=\"1\" class=\"dataframe\">\n",
       "  <thead>\n",
       "    <tr style=\"text-align: right;\">\n",
       "      <th></th>\n",
       "      <th>Awards</th>\n",
       "    </tr>\n",
       "  </thead>\n",
       "  <tbody>\n",
       "    <tr>\n",
       "      <th>0</th>\n",
       "      <td>northwestern university united states naval se...</td>\n",
       "    </tr>\n",
       "    <tr>\n",
       "      <th>1</th>\n",
       "      <td>css merit scholarship carnegie mellon universi...</td>\n",
       "    </tr>\n",
       "    <tr>\n",
       "      <th>2</th>\n",
       "      <td>css merit scholarship carnegie mellon universi...</td>\n",
       "    </tr>\n",
       "    <tr>\n",
       "      <th>3</th>\n",
       "      <td>support decision making graduate assistantship...</td>\n",
       "    </tr>\n",
       "    <tr>\n",
       "      <th>4</th>\n",
       "      <td>increase user retention urop undergraduate res...</td>\n",
       "    </tr>\n",
       "    <tr>\n",
       "      <th>5</th>\n",
       "      <td>b tests halcog lu data science undergraduate s...</td>\n",
       "    </tr>\n",
       "    <tr>\n",
       "      <th>6</th>\n",
       "      <td>app layout obtained outstanding student schola...</td>\n",
       "    </tr>\n",
       "    <tr>\n",
       "      <th>7</th>\n",
       "      <td>comprehensive second class scholarship</td>\n",
       "    </tr>\n",
       "    <tr>\n",
       "      <th>8</th>\n",
       "      <td>several affecting factors received scholarship</td>\n",
       "    </tr>\n",
       "    <tr>\n",
       "      <th>9</th>\n",
       "      <td>data visualization undergraduate national scho...</td>\n",
       "    </tr>\n",
       "    <tr>\n",
       "      <th>10</th>\n",
       "      <td>received vice chancellor scholarship award</td>\n",
       "    </tr>\n",
       "    <tr>\n",
       "      <th>11</th>\n",
       "      <td>dolman law group scholarship</td>\n",
       "    </tr>\n",
       "    <tr>\n",
       "      <th>12</th>\n",
       "      <td>future eli shay scholarship</td>\n",
       "    </tr>\n",
       "    <tr>\n",
       "      <th>13</th>\n",
       "      <td>full army rotc scholarship</td>\n",
       "    </tr>\n",
       "    <tr>\n",
       "      <th>14</th>\n",
       "      <td>macaulay honors scholarship</td>\n",
       "    </tr>\n",
       "    <tr>\n",
       "      <th>15</th>\n",
       "      <td>largest achievements include national merit co...</td>\n",
       "    </tr>\n",
       "    <tr>\n",
       "      <th>16</th>\n",
       "      <td>george washington university merit awards</td>\n",
       "    </tr>\n",
       "    <tr>\n",
       "      <th>17</th>\n",
       "      <td>leadership award edward frank kraft award reci...</td>\n",
       "    </tr>\n",
       "    <tr>\n",
       "      <th>18</th>\n",
       "      <td>real life large data sets awarded</td>\n",
       "    </tr>\n",
       "    <tr>\n",
       "      <th>19</th>\n",
       "      <td>awarded third place among competitors</td>\n",
       "    </tr>\n",
       "    <tr>\n",
       "      <th>20</th>\n",
       "      <td>business team madame sarah abbot award</td>\n",
       "    </tr>\n",
       "    <tr>\n",
       "      <th>21</th>\n",
       "      <td>would receive visual art awards given</td>\n",
       "    </tr>\n",
       "    <tr>\n",
       "      <th>22</th>\n",
       "      <td>received tech star recognition award</td>\n",
       "    </tr>\n",
       "    <tr>\n",
       "      <th>23</th>\n",
       "      <td>data best student award</td>\n",
       "    </tr>\n",
       "  </tbody>\n",
       "</table>\n",
       "</div>"
      ],
      "text/plain": [
       "                                               Awards\n",
       "0   northwestern university united states naval se...\n",
       "1   css merit scholarship carnegie mellon universi...\n",
       "2   css merit scholarship carnegie mellon universi...\n",
       "3   support decision making graduate assistantship...\n",
       "4   increase user retention urop undergraduate res...\n",
       "5   b tests halcog lu data science undergraduate s...\n",
       "6   app layout obtained outstanding student schola...\n",
       "7              comprehensive second class scholarship\n",
       "8      several affecting factors received scholarship\n",
       "9   data visualization undergraduate national scho...\n",
       "10         received vice chancellor scholarship award\n",
       "11                      dolman law group scholarship \n",
       "12                        future eli shay scholarship\n",
       "13                         full army rotc scholarship\n",
       "14                        macaulay honors scholarship\n",
       "15  largest achievements include national merit co...\n",
       "16          george washington university merit awards\n",
       "17  leadership award edward frank kraft award reci...\n",
       "18                  real life large data sets awarded\n",
       "19              awarded third place among competitors\n",
       "20             business team madame sarah abbot award\n",
       "21              would receive visual art awards given\n",
       "22               received tech star recognition award\n",
       "23                            data best student award"
      ]
     },
     "execution_count": 37,
     "metadata": {},
     "output_type": "execute_result"
    }
   ],
   "source": [
    "highlighted = highlighted.replace(to_replace=r'[^a-zA-Z ]', value='', regex=True)\n",
    "highlighted = highlighted.replace(to_replace=r'\\s+', value=' ', regex=True)\n",
    "highlighted = pd.DataFrame(highlighted)\n",
    "highlighted"
   ]
  },
  {
   "cell_type": "code",
   "execution_count": 38,
   "metadata": {},
   "outputs": [],
   "source": [
    "parts_of_speech = []"
   ]
  },
  {
   "cell_type": "code",
   "execution_count": 39,
   "metadata": {},
   "outputs": [],
   "source": [
    "def preprocess(sent):\n",
    "    sent = nltk.word_tokenize(sent)\n",
    "    sent = nltk.pos_tag(sent)\n",
    "    return sent"
   ]
  },
  {
   "cell_type": "code",
   "execution_count": 40,
   "metadata": {},
   "outputs": [],
   "source": [
    "for i in range(highlighted.shape[0]):\n",
    "    sentence = highlighted['Awards'].iloc[i]\n",
    "    sent = preprocess(sentence)\n",
    "    parts_of_speech.append(sent)"
   ]
  },
  {
   "cell_type": "code",
   "execution_count": 41,
   "metadata": {},
   "outputs": [],
   "source": [
    "pattern = 'NP: {<DT>?<JJ>*<NN>}'"
   ]
  },
  {
   "cell_type": "code",
   "execution_count": 42,
   "metadata": {},
   "outputs": [],
   "source": [
    "import spacy\n",
    "from spacy import displacy\n",
    "from collections import Counter\n",
    "import en_core_web_sm\n",
    "nlp = en_core_web_sm.load()"
   ]
  },
  {
   "cell_type": "code",
   "execution_count": 43,
   "metadata": {},
   "outputs": [],
   "source": [
    "names_all = []"
   ]
  },
  {
   "cell_type": "code",
   "execution_count": 44,
   "metadata": {},
   "outputs": [],
   "source": [
    "for i in range(highlighted.shape[0]):\n",
    "    sentence = highlighted['Awards'].iloc[i]\n",
    "    sent = nlp(sentence)\n",
    "    names = [(X.text, X.label_) for X in sent.ents]\n",
    "    names_all.append(names)"
   ]
  },
  {
   "cell_type": "code",
   "execution_count": 45,
   "metadata": {},
   "outputs": [
    {
     "data": {
      "text/plain": [
       "[[('northwestern university', 'ORG'),\n",
       "  ('united states', 'GPE'),\n",
       "  ('sea cadet corps', 'ORG')],\n",
       " [('carnegie mellon university', 'ORG'),\n",
       "  ('wuhan university erasmus international mobility', 'ORG')],\n",
       " [('carnegie mellon university', 'ORG'),\n",
       "  ('wuhan university erasmus international mobility', 'ORG')],\n",
       " [('georgia state university', 'ORG')],\n",
       " [],\n",
       " [],\n",
       " [('app layout', 'ORG'), ('six', 'CARDINAL')],\n",
       " [('second', 'ORDINAL')],\n",
       " [],\n",
       " [],\n",
       " [],\n",
       " [('dolman law group', 'ORG')],\n",
       " [('eli', 'ORG')],\n",
       " [],\n",
       " [],\n",
       " [],\n",
       " [('george washington university', 'ORG')],\n",
       " [('award edward frank kraft award', 'PERSON')],\n",
       " [],\n",
       " [('third', 'ORDINAL')],\n",
       " [('sarah', 'PERSON')],\n",
       " [],\n",
       " [('tech star recognition', 'ORG')],\n",
       " []]"
      ]
     },
     "execution_count": 45,
     "metadata": {},
     "output_type": "execute_result"
    }
   ],
   "source": [
    "names_all"
   ]
  },
  {
   "cell_type": "code",
   "execution_count": 46,
   "metadata": {},
   "outputs": [],
   "source": [
    "keywords = []\n",
    "for i in range(len(names_all)):\n",
    "    entities = names_all[i]\n",
    "    for j in range(len(entities)):\n",
    "        if entities[j][1] == 'ORG' or entities[j][1] == 'PERSON':\n",
    "            keywords.append(entities[j][0])"
   ]
  },
  {
   "cell_type": "code",
   "execution_count": 47,
   "metadata": {},
   "outputs": [
    {
     "data": {
      "text/plain": [
       "['northwestern university',\n",
       " 'sea cadet corps',\n",
       " 'carnegie mellon university',\n",
       " 'wuhan university erasmus international mobility',\n",
       " 'georgia state university',\n",
       " 'app layout',\n",
       " 'dolman law group',\n",
       " 'eli',\n",
       " 'george washington university',\n",
       " 'award edward frank kraft award',\n",
       " 'sarah',\n",
       " 'tech star recognition']"
      ]
     },
     "execution_count": 47,
     "metadata": {},
     "output_type": "execute_result"
    }
   ],
   "source": [
    "keywords = list(pd.Series(keywords).drop_duplicates())\n",
    "keywords"
   ]
  },
  {
   "cell_type": "code",
   "execution_count": 48,
   "metadata": {},
   "outputs": [],
   "source": [
    "final_awards = []"
   ]
  },
  {
   "cell_type": "code",
   "execution_count": 49,
   "metadata": {},
   "outputs": [],
   "source": [
    "for word in keywords:\n",
    "    contains_word = highlighted['Awards'].str.contains(word)\n",
    "    selected = contains_word[contains_word].index\n",
    "    for note in selected:\n",
    "        for word in ranking_words:\n",
    "            if word in highlighted.loc[note]['Awards']:\n",
    "                final_awards.append(highlighted.loc[note]['Awards'])"
   ]
  },
  {
   "cell_type": "code",
   "execution_count": 50,
   "metadata": {},
   "outputs": [],
   "source": [
    "final_awards = list(pd.Series(final_awards).drop_duplicates())"
   ]
  },
  {
   "cell_type": "code",
   "execution_count": 51,
   "metadata": {},
   "outputs": [
    {
     "data": {
      "text/html": [
       "<div>\n",
       "<style scoped>\n",
       "    .dataframe tbody tr th:only-of-type {\n",
       "        vertical-align: middle;\n",
       "    }\n",
       "\n",
       "    .dataframe tbody tr th {\n",
       "        vertical-align: top;\n",
       "    }\n",
       "\n",
       "    .dataframe thead th {\n",
       "        text-align: right;\n",
       "    }\n",
       "</style>\n",
       "<table border=\"1\" class=\"dataframe\">\n",
       "  <thead>\n",
       "    <tr style=\"text-align: right;\">\n",
       "      <th></th>\n",
       "      <th>Awards</th>\n",
       "    </tr>\n",
       "  </thead>\n",
       "  <tbody>\n",
       "    <tr>\n",
       "      <th>0</th>\n",
       "      <td>northwestern university united states naval se...</td>\n",
       "    </tr>\n",
       "    <tr>\n",
       "      <th>1</th>\n",
       "      <td>css merit scholarship carnegie mellon universi...</td>\n",
       "    </tr>\n",
       "    <tr>\n",
       "      <th>2</th>\n",
       "      <td>support decision making graduate assistantship...</td>\n",
       "    </tr>\n",
       "    <tr>\n",
       "      <th>3</th>\n",
       "      <td>app layout obtained outstanding student schola...</td>\n",
       "    </tr>\n",
       "    <tr>\n",
       "      <th>4</th>\n",
       "      <td>dolman law group scholarship</td>\n",
       "    </tr>\n",
       "    <tr>\n",
       "      <th>5</th>\n",
       "      <td>future eli shay scholarship</td>\n",
       "    </tr>\n",
       "    <tr>\n",
       "      <th>6</th>\n",
       "      <td>george washington university merit awards</td>\n",
       "    </tr>\n",
       "    <tr>\n",
       "      <th>7</th>\n",
       "      <td>leadership award edward frank kraft award reci...</td>\n",
       "    </tr>\n",
       "    <tr>\n",
       "      <th>8</th>\n",
       "      <td>business team madame sarah abbot award</td>\n",
       "    </tr>\n",
       "    <tr>\n",
       "      <th>9</th>\n",
       "      <td>received tech star recognition award</td>\n",
       "    </tr>\n",
       "  </tbody>\n",
       "</table>\n",
       "</div>"
      ],
      "text/plain": [
       "                                              Awards\n",
       "0  northwestern university united states naval se...\n",
       "1  css merit scholarship carnegie mellon universi...\n",
       "2  support decision making graduate assistantship...\n",
       "3  app layout obtained outstanding student schola...\n",
       "4                      dolman law group scholarship \n",
       "5                        future eli shay scholarship\n",
       "6          george washington university merit awards\n",
       "7  leadership award edward frank kraft award reci...\n",
       "8             business team madame sarah abbot award\n",
       "9               received tech star recognition award"
      ]
     },
     "execution_count": 51,
     "metadata": {},
     "output_type": "execute_result"
    }
   ],
   "source": [
    "showcase = pd.DataFrame(final_awards, columns=['Awards'])\n",
    "showcase"
   ]
  },
  {
   "cell_type": "code",
   "execution_count": null,
   "metadata": {},
   "outputs": [],
   "source": []
  }
 ],
 "metadata": {
  "kernelspec": {
   "display_name": "Python 3",
   "language": "python",
   "name": "python3"
  },
  "language_info": {
   "codemirror_mode": {
    "name": "ipython",
    "version": 3
   },
   "file_extension": ".py",
   "mimetype": "text/x-python",
   "name": "python",
   "nbconvert_exporter": "python",
   "pygments_lexer": "ipython3",
   "version": "3.8.1"
  }
 },
 "nbformat": 4,
 "nbformat_minor": 4
}
